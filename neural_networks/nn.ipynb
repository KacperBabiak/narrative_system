{
 "cells": [
  {
   "cell_type": "code",
   "execution_count": 1,
   "metadata": {},
   "outputs": [],
   "source": [
    "# mlp for multi-label classification\n",
    "import numpy as np\n",
    "from numpy import mean\n",
    "from numpy import std\n",
    "from sklearn.datasets import make_multilabel_classification\n",
    "from sklearn.model_selection import RepeatedKFold\n",
    "from keras.models import Sequential\n",
    "from keras.layers import Dense\n",
    "from sklearn.metrics import accuracy_score\n",
    "import pandas as pd\n",
    "from sklearn.preprocessing import LabelEncoder\n",
    "from sklearn.preprocessing import OneHotEncoder"
   ]
  },
  {
   "cell_type": "code",
   "execution_count": 4,
   "metadata": {},
   "outputs": [],
   "source": [
    "# get the dataset\n",
    "def get_dataset():\n",
    " df = pd.read_csv('E:\\\\Praca_magisterska\\\\narrative_system\\\\data\\\\creating_data\\\\random_states_nn.csv')\n",
    " df.drop(['Unnamed: 0','results','index'],axis=1,inplace=True)\n",
    " \n",
    " \n",
    " \n",
    "\n",
    " y= df[['survives', 'helps_all' , 'helps_ego']]\n",
    " \n",
    " X = df.drop(['survives', 'helps_all' , 'helps_ego'], axis=1)\n",
    " print(X.columns)\n",
    " print(y.columns)\n",
    " categorical_feature_mask = X.dtypes==object\n",
    "# filter categorical columns using mask and turn it into a list\n",
    " categorical_cols = X.columns[categorical_feature_mask].tolist()\n",
    "\n",
    " for col in categorical_cols:\n",
    "  one_hot = pd.get_dummies(X[col])\n",
    "  X = X.drop(col,axis = 1)\n",
    "# Join the encoded df\n",
    "  X = X.join(one_hot)\n",
    "\n",
    " \n",
    "\n",
    " return X.to_numpy(), y.to_numpy()\n"
   ]
  },
  {
   "cell_type": "code",
   "execution_count": 6,
   "metadata": {},
   "outputs": [
    {
     "name": "stdout",
     "output_type": "stream",
     "text": [
      "Index(['char_acting_altruism', 'char_acting_ambition',\n",
      "       'char_acting_fighting_ability', 'char_acting_safety',\n",
      "       'char_acting_food', 'char_acting_satisfaction',\n",
      "       'char_acting_likes_char1', 'char_acting_likes_char2', 'char1_altruism',\n",
      "       'char1_ambition', 'char1_fighting_ability', 'char1_safety',\n",
      "       'char1_food', 'char1_satisfaction', 'char1_likes_char_acting',\n",
      "       'char1_likes_char2', 'char2_altruism', 'char2_ambition',\n",
      "       'char2_fighting_ability', 'char2_safety', 'char2_food',\n",
      "       'char2_satisfaction', 'char2_likes_char_acting', 'char2_likes_char1',\n",
      "       'ghost_relations', 'overall_food', 'overall_coins'],\n",
      "      dtype='object')\n",
      "Index(['survives', 'helps_all', 'helps_ego'], dtype='object')\n",
      "(4522, 27) (4522, 3)\n",
      "[-1  0  0 -1  0 -1  0  1  1  1 -1  2  0  1 -1  1 -1  1 -1  0  0  1  0  1\n",
      "  0  1  1] [1 0 0]\n"
     ]
    }
   ],
   "source": [
    "\n",
    "# define dataset\n",
    "X, y = get_dataset()\n",
    "# summarize dataset shape\n",
    "print(X.shape, y.shape)\n",
    "# summarize first few examples\n",
    "for i in range(1):\n",
    " print(X[i], y[i])"
   ]
  },
  {
   "cell_type": "code",
   "execution_count": 7,
   "metadata": {},
   "outputs": [],
   "source": [
    "\n",
    "# get the model\n",
    "def get_model(n_inputs, n_outputs):\n",
    " model = Sequential()\n",
    " model.add(Dense(20, input_dim=n_inputs, kernel_initializer='he_uniform', activation='relu'))\n",
    " model.add(Dense(16,  kernel_initializer='he_uniform', activation='relu'))\n",
    " model.add(Dense(n_outputs, activation='sigmoid'))\n",
    " model.compile(loss='binary_crossentropy', optimizer='adam')\n",
    " \n",
    " return model"
   ]
  },
  {
   "cell_type": "code",
   "execution_count": 8,
   "metadata": {},
   "outputs": [],
   "source": [
    "\n",
    "# evaluate a model using repeated k-fold cross-validation\n",
    "def evaluate_model(X, y):\n",
    " results = list()\n",
    " n_inputs, n_outputs = X.shape[1], y.shape[1]\n",
    " # define evaluation procedure\n",
    " cv = RepeatedKFold(n_splits=10, n_repeats=3, random_state=1)\n",
    " # enumerate folds\n",
    " for train_ix, test_ix in cv.split(X):\n",
    "    # prepare data\n",
    "    X_train, X_test = X[train_ix], X[test_ix]\n",
    "    y_train, y_test = y[train_ix], y[test_ix]\n",
    "    # define model\n",
    "    model = get_model(n_inputs, n_outputs)\n",
    "    # fit model\n",
    "    model.fit(X_train, y_train, verbose=0, epochs=100,batch_size=15)\n",
    "    # make a prediction on the test set\n",
    "    yhat = model.predict(X_test)\n",
    "    #print(np.argmax(model.predict(X_test), axis=-1))\n",
    "    # round probabilities to class labels\n",
    "    yhat = yhat.round()\n",
    "    # calculate accuracy\n",
    "    acc = accuracy_score(y_test, yhat)\n",
    "    # store result\n",
    "    print('>%.3f' % acc)\n",
    "    results.append(acc)\n",
    " return results"
   ]
  },
  {
   "cell_type": "code",
   "execution_count": 9,
   "metadata": {},
   "outputs": [
    {
     "name": "stdout",
     "output_type": "stream",
     "text": [
      "Index(['char_acting_altruism', 'char_acting_ambition',\n",
      "       'char_acting_fighting_ability', 'char_acting_safety',\n",
      "       'char_acting_food', 'char_acting_satisfaction',\n",
      "       'char_acting_likes_char1', 'char_acting_likes_char2', 'char1_altruism',\n",
      "       'char1_ambition', 'char1_fighting_ability', 'char1_safety',\n",
      "       'char1_food', 'char1_satisfaction', 'char1_likes_char_acting',\n",
      "       'char1_likes_char2', 'char2_altruism', 'char2_ambition',\n",
      "       'char2_fighting_ability', 'char2_safety', 'char2_food',\n",
      "       'char2_satisfaction', 'char2_likes_char_acting', 'char2_likes_char1',\n",
      "       'ghost_relations', 'overall_food', 'overall_coins'],\n",
      "      dtype='object')\n",
      "Index(['survives', 'helps_all', 'helps_ego'], dtype='object')\n",
      "15/15 [==============================] - 0s 1ms/step\n",
      ">0.987\n",
      "15/15 [==============================] - 0s 2ms/step\n",
      ">0.989\n",
      "15/15 [==============================] - 0s 2ms/step\n",
      ">0.993\n",
      "15/15 [==============================] - 0s 2ms/step\n",
      ">0.998\n",
      "15/15 [==============================] - 0s 1ms/step\n",
      ">0.978\n",
      "15/15 [==============================] - 0s 1ms/step\n",
      ">0.987\n",
      "15/15 [==============================] - 0s 1ms/step\n",
      ">0.987\n",
      "15/15 [==============================] - 0s 1ms/step\n",
      ">0.985\n",
      "15/15 [==============================] - 0s 1ms/step\n",
      ">0.987\n",
      "15/15 [==============================] - 0s 1ms/step\n",
      ">0.973\n",
      "15/15 [==============================] - 0s 1ms/step\n",
      ">0.980\n",
      "15/15 [==============================] - 0s 1ms/step\n",
      ">0.978\n",
      "15/15 [==============================] - 0s 1ms/step\n",
      ">0.985\n",
      "15/15 [==============================] - 0s 1ms/step\n",
      ">0.993\n",
      "15/15 [==============================] - 0s 1ms/step\n",
      ">0.996\n",
      "15/15 [==============================] - 0s 1ms/step\n",
      ">0.982\n",
      "15/15 [==============================] - 0s 2ms/step\n",
      ">0.991\n",
      "15/15 [==============================] - 0s 1ms/step\n",
      ">0.991\n",
      "15/15 [==============================] - 0s 951us/step\n",
      ">0.985\n",
      "15/15 [==============================] - 0s 1ms/step\n",
      ">0.982\n",
      "15/15 [==============================] - 0s 1ms/step\n",
      ">0.991\n",
      "15/15 [==============================] - 0s 2ms/step\n",
      ">0.987\n",
      "15/15 [==============================] - 0s 2ms/step\n",
      ">0.989\n",
      "15/15 [==============================] - 0s 2ms/step\n",
      ">0.987\n",
      "15/15 [==============================] - 0s 1ms/step\n",
      ">0.980\n",
      "15/15 [==============================] - 0s 1ms/step\n",
      ">0.991\n",
      "15/15 [==============================] - 0s 1ms/step\n",
      ">0.989\n",
      "15/15 [==============================] - 0s 2ms/step\n",
      ">0.987\n",
      "15/15 [==============================] - 0s 1ms/step\n",
      ">0.980\n",
      "15/15 [==============================] - 0s 1ms/step\n",
      ">0.991\n",
      "Accuracy: 0.987 (0.006)\n"
     ]
    }
   ],
   "source": [
    "# load dataset\n",
    "X, y = get_dataset()\n",
    "# evaluate model\n",
    "results = evaluate_model(X, y)\n",
    "# summarize performance\n",
    "print('Accuracy: %.3f (%.3f)' % (mean(results), std(results)))"
   ]
  },
  {
   "cell_type": "code",
   "execution_count": 10,
   "metadata": {},
   "outputs": [],
   "source": [
    "from numpy import asarray\n",
    "n_inputs, n_outputs = X.shape[1], y.shape[1]\n",
    "model = get_model(n_inputs, n_outputs)\n",
    "# fit the model on all data\n",
    "model.fit(X, y, verbose=0, epochs=100)\n",
    "model.save('model1.keras')\n",
    "# make a prediction for new data\n"
   ]
  },
  {
   "cell_type": "markdown",
   "metadata": {},
   "source": [
    "['doctor_altruism', 'doctor_likes_soldier', 'doctor_likes_actor',\n",
    "       'doctor_has_food', 'doctor_has_meds', 'soldier_altruism',\n",
    "       'soldier_likes_doctor', 'soldier_likes_actor', 'soldier_has_food',\n",
    "       'soldier_has_meds', 'actor_altruism', 'actor_likes_doctor',\n",
    "       'actor_likes_soldier', 'actor_has_food', 'actor_has_meds',\n",
    "       'food_quantity', 'meds_quantity', 'active']\n",
    "['wants_meds', 'wants_food', 'attacks_doctor', 'attacks_soldier',\n",
    "       'attacks_actor']"
   ]
  },
  {
   "cell_type": "code",
   "execution_count": 11,
   "metadata": {},
   "outputs": [
    {
     "name": "stdout",
     "output_type": "stream",
     "text": [
      "1/1 [==============================] - 0s 89ms/step\n",
      "[0]\n",
      "Predicted: [0.99975103 0.         0.        ]\n"
     ]
    },
    {
     "ename": "",
     "evalue": "",
     "output_type": "error",
     "traceback": [
      "\u001b[1;31mThe Kernel crashed while executing code in the the current cell or a previous cell. Please review the code in the cell(s) to identify a possible cause of the failure. Click <a href='https://aka.ms/vscodeJupyterKernelCrash'>here</a> for more info. View Jupyter <a href='command:jupyter.viewOutput'>log</a> for further details."
     ]
    }
   ],
   "source": [
    "np.set_printoptions(suppress=True)\n",
    "row = [-1,  0 , 0, -1,  0, -1,  0,  1,  1 , 1 ,-1,  2,  0,  1, -1 , 1, -1,  1 ,-1,  0,  0, 1 , 0 , 1,\n",
    "  0,  1 , 1]\n",
    "newX = asarray([row])\n",
    "yhat = model.predict(newX)\n",
    "print(np.argmax(yhat, axis=-1))\n",
    "print('Predicted: %s' % yhat[0])"
   ]
  }
 ],
 "metadata": {
  "kernelspec": {
   "display_name": "Python 3",
   "language": "python",
   "name": "python3"
  },
  "language_info": {
   "codemirror_mode": {
    "name": "ipython",
    "version": 3
   },
   "file_extension": ".py",
   "mimetype": "text/x-python",
   "name": "python",
   "nbconvert_exporter": "python",
   "pygments_lexer": "ipython3",
   "version": "3.10.11"
  }
 },
 "nbformat": 4,
 "nbformat_minor": 2
}
