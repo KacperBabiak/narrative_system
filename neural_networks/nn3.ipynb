{
 "cells": [
  {
   "cell_type": "code",
   "execution_count": 1,
   "metadata": {},
   "outputs": [],
   "source": [
    "# Data visualization\n",
    "import matplotlib.pyplot as plt\n",
    "import seaborn as sns\n",
    "import numpy as np\n",
    "import pandas as pd \n",
    "import seaborn as sns\n",
    "# Keras\n",
    "from keras.models import Sequential\n",
    "from keras.layers import Dense\n",
    "from keras.optimizers import SGD, Adam, Adadelta, RMSprop\n",
    "import keras.backend as K\n",
    "# Train-Test\n",
    "from sklearn.model_selection import train_test_split\n",
    "# Scaling data\n",
    "from sklearn.preprocessing import StandardScaler\n",
    "# Classification Report\n",
    "from sklearn.metrics import classification_report\n",
    "from keras.utils.np_utils import to_categorical\n",
    "from tensorflow.keras.layers import Dropout\n",
    "from numpy import asarray\n",
    "\n"
   ]
  },
  {
   "cell_type": "code",
   "execution_count": 2,
   "metadata": {},
   "outputs": [
    {
     "data": {
      "text/plain": [
       "Index(['doctor_altruism', 'doctor_likes_soldier', 'doctor_likes_actor',\n",
       "       'doctor_has_food', 'doctor_has_meds', 'soldier_altruism',\n",
       "       'soldier_likes_doctor', 'soldier_likes_actor', 'soldier_has_food',\n",
       "       'soldier_has_meds', 'actor_altruism', 'actor_likes_doctor',\n",
       "       'actor_likes_soldier', 'actor_has_food', 'actor_has_meds',\n",
       "       'food_quantity', 'meds_quantity', 'active', 'results',\n",
       "       'attack(doctor, actor)', 'attack(doctor, soldier)',\n",
       "       'prepare_meeting(doctor, actor)', 'prepare_trap(doctor, soldier)',\n",
       "       'prepare_meeting(doctor, soldier)', 'prepare_trap(doctor, actor)',\n",
       "       'chosen_action'],\n",
       "      dtype='object')"
      ]
     },
     "execution_count": 2,
     "metadata": {},
     "output_type": "execute_result"
    }
   ],
   "source": [
    "df = pd.read_csv('data/all_states_nn2_balanced.csv')\n",
    "df.columns"
   ]
  },
  {
   "cell_type": "code",
   "execution_count": 3,
   "metadata": {},
   "outputs": [],
   "source": [
    "# get the dataset\n",
    "def get_dataset():\n",
    "\tdf = pd.read_csv('data/all_states_nn2_balanced.csv')\n",
    "\t#df.drop(['Unnamed: 0','Unnamed: 0.1','results'],axis=1,inplace=True)\n",
    "\tdf.drop(['results'],axis=1,inplace=True)\n",
    " # Categorical boolean mask\n",
    " \n",
    "\ty= df[['chosen_action']]\n",
    "\t\n",
    "\tX = df.drop(['chosen_action'], axis=1)\n",
    "\tprint(X.columns)\n",
    "\tprint(y.columns)\n",
    "\tcategorical_feature_mask = X.dtypes==object\n",
    "\t# filter categorical columns using mask and turn it into a list\n",
    "\tcategorical_cols = X.columns[categorical_feature_mask].tolist()\n",
    "\n",
    "\tfor col in categorical_cols:\n",
    "\t\tone_hot = pd.get_dummies(X[col])\n",
    "\t\tX = X.drop(col,axis = 1)\n",
    "\t# Join the encoded df\n",
    "\t\tX = X.join(one_hot)\n",
    "\t\n",
    "\tsc = StandardScaler()\n",
    "\t#X = pd.DataFrame(sc.fit_transform(X))\n",
    "\ty_cat = to_categorical(y)\n",
    "\treturn X, y_cat"
   ]
  },
  {
   "cell_type": "code",
   "execution_count": 4,
   "metadata": {},
   "outputs": [
    {
     "name": "stdout",
     "output_type": "stream",
     "text": [
      "Index(['doctor_altruism', 'doctor_likes_soldier', 'doctor_likes_actor',\n",
      "       'doctor_has_food', 'doctor_has_meds', 'soldier_altruism',\n",
      "       'soldier_likes_doctor', 'soldier_likes_actor', 'soldier_has_food',\n",
      "       'soldier_has_meds', 'actor_altruism', 'actor_likes_doctor',\n",
      "       'actor_likes_soldier', 'actor_has_food', 'actor_has_meds',\n",
      "       'food_quantity', 'meds_quantity', 'active', 'attack(doctor, actor)',\n",
      "       'attack(doctor, soldier)', 'prepare_meeting(doctor, actor)',\n",
      "       'prepare_trap(doctor, soldier)', 'prepare_meeting(doctor, soldier)',\n",
      "       'prepare_trap(doctor, actor)'],\n",
      "      dtype='object')\n",
      "Index(['chosen_action'], dtype='object')\n",
      "(4511, 26) (4511, 4)\n"
     ]
    },
    {
     "data": {
      "text/plain": [
       "array([0., 0., 0., 1.], dtype=float32)"
      ]
     },
     "execution_count": 4,
     "metadata": {},
     "output_type": "execute_result"
    }
   ],
   "source": [
    "# define dataset\n",
    "X, y = get_dataset()\n",
    "# summarize dataset shape\n",
    "print(X.shape, y.shape)\n",
    "# summarize first few examples\n",
    "X.head()\n",
    "y[0]"
   ]
  },
  {
   "cell_type": "code",
   "execution_count": 5,
   "metadata": {},
   "outputs": [],
   "source": [
    "from sklearn.model_selection import train_test_split\n",
    "x_train, x_test, y_train, y_test = train_test_split(X.values, y, test_size=0.2)"
   ]
  },
  {
   "cell_type": "code",
   "execution_count": 6,
   "metadata": {},
   "outputs": [
    {
     "name": "stdout",
     "output_type": "stream",
     "text": [
      "Model: \"sequential\"\n",
      "_________________________________________________________________\n",
      " Layer (type)                Output Shape              Param #   \n",
      "=================================================================\n",
      " dense (Dense)               (None, 60)                1620      \n",
      "                                                                 \n",
      " dense_1 (Dense)             (None, 15)                915       \n",
      "                                                                 \n",
      " dropout (Dropout)           (None, 15)                0         \n",
      "                                                                 \n",
      " dense_2 (Dense)             (None, 4)                 64        \n",
      "                                                                 \n",
      "=================================================================\n",
      "Total params: 2,599\n",
      "Trainable params: 2,599\n",
      "Non-trainable params: 0\n",
      "_________________________________________________________________\n"
     ]
    },
    {
     "name": "stderr",
     "output_type": "stream",
     "text": [
      "C:\\Users\\kacpe\\AppData\\Local\\Packages\\PythonSoftwareFoundation.Python.3.10_qbz5n2kfra8p0\\LocalCache\\local-packages\\Python310\\site-packages\\keras\\optimizers\\optimizer_v2\\adam.py:117: UserWarning: The `lr` argument is deprecated, use `learning_rate` instead.\n",
      "  super().__init__(name, **kwargs)\n"
     ]
    }
   ],
   "source": [
    "model = Sequential()\n",
    "model.add(Dense(60, input_shape = (26,), activation = \"relu\"))\n",
    "model.add(Dense(15, activation = \"relu\"))\n",
    "model.add(Dropout(0.2))\n",
    "model.add(Dense(4, activation = \"softmax\"))\n",
    "model.compile(Adam(lr = 0.01), \"categorical_crossentropy\", metrics = [\"accuracy\"])\n",
    "model.summary()"
   ]
  },
  {
   "cell_type": "code",
   "execution_count": 7,
   "metadata": {},
   "outputs": [
    {
     "name": "stdout",
     "output_type": "stream",
     "text": [
      "Epoch 1/10\n",
      "113/113 [==============================] - 1s 1ms/step - loss: 0.1081 - accuracy: 0.9820\n",
      "Epoch 2/10\n",
      "113/113 [==============================] - 0s 1ms/step - loss: 0.0555 - accuracy: 0.9911\n",
      "Epoch 3/10\n",
      "113/113 [==============================] - 0s 1ms/step - loss: 0.0478 - accuracy: 0.9911\n",
      "Epoch 4/10\n",
      "113/113 [==============================] - 0s 1ms/step - loss: 0.0425 - accuracy: 0.9911\n",
      "Epoch 5/10\n",
      "113/113 [==============================] - 0s 1ms/step - loss: 0.0409 - accuracy: 0.9911\n",
      "Epoch 6/10\n",
      "113/113 [==============================] - 0s 2ms/step - loss: 0.0375 - accuracy: 0.9911\n",
      "Epoch 7/10\n",
      "113/113 [==============================] - 0s 1ms/step - loss: 0.0318 - accuracy: 0.9911\n",
      "Epoch 8/10\n",
      "113/113 [==============================] - 0s 2ms/step - loss: 0.0328 - accuracy: 0.9909\n",
      "Epoch 9/10\n",
      "113/113 [==============================] - 0s 1ms/step - loss: 0.0292 - accuracy: 0.9914\n",
      "Epoch 10/10\n",
      "113/113 [==============================] - 0s 1ms/step - loss: 0.0264 - accuracy: 0.9917\n"
     ]
    },
    {
     "data": {
      "text/plain": [
       "<keras.callbacks.History at 0x168cefcb490>"
      ]
     },
     "execution_count": 7,
     "metadata": {},
     "output_type": "execute_result"
    }
   ],
   "source": [
    "model.fit(x_train, y_train, verbose=1, epochs=10)"
   ]
  },
  {
   "cell_type": "code",
   "execution_count": 8,
   "metadata": {},
   "outputs": [
    {
     "name": "stdout",
     "output_type": "stream",
     "text": [
      "29/29 [==============================] - 0s 1ms/step\n",
      "29/29 [==============================] - 0s 964us/step\n"
     ]
    },
    {
     "data": {
      "text/plain": [
       "array([[  0,   0,   0,   4],\n",
       "       [  0,   0,   0,   9],\n",
       "       [  0,   0,   0,   1],\n",
       "       [  0,   0,   0, 889]], dtype=int64)"
      ]
     },
     "execution_count": 8,
     "metadata": {},
     "output_type": "execute_result"
    }
   ],
   "source": [
    "\n",
    "\n",
    "predict_x=model.predict(x_test) \n",
    "y_pred_class=np.argmax(predict_x,axis=1)\n",
    "from sklearn.metrics import confusion_matrix\n",
    "y_pred = model.predict(x_test)\n",
    "y_test_class = np.argmax(y_test, axis=1)\n",
    "confusion_matrix(y_test_class, y_pred_class)"
   ]
  },
  {
   "cell_type": "code",
   "execution_count": 60,
   "metadata": {},
   "outputs": [
    {
     "name": "stdout",
     "output_type": "stream",
     "text": [
      "              precision    recall  f1-score   support\n",
      "\n",
      "           0       0.00      0.00      0.00         2\n",
      "           1       0.00      0.00      0.00         4\n",
      "           2       0.00      0.00      0.00         2\n",
      "           3       0.99      1.00      0.99       895\n",
      "\n",
      "    accuracy                           0.99       903\n",
      "   macro avg       0.25      0.25      0.25       903\n",
      "weighted avg       0.98      0.99      0.99       903\n",
      "\n"
     ]
    },
    {
     "name": "stderr",
     "output_type": "stream",
     "text": [
      "C:\\Users\\kacpe\\AppData\\Local\\Packages\\PythonSoftwareFoundation.Python.3.10_qbz5n2kfra8p0\\LocalCache\\local-packages\\Python310\\site-packages\\sklearn\\metrics\\_classification.py:1344: UndefinedMetricWarning: Precision and F-score are ill-defined and being set to 0.0 in labels with no predicted samples. Use `zero_division` parameter to control this behavior.\n",
      "  _warn_prf(average, modifier, msg_start, len(result))\n",
      "C:\\Users\\kacpe\\AppData\\Local\\Packages\\PythonSoftwareFoundation.Python.3.10_qbz5n2kfra8p0\\LocalCache\\local-packages\\Python310\\site-packages\\sklearn\\metrics\\_classification.py:1344: UndefinedMetricWarning: Precision and F-score are ill-defined and being set to 0.0 in labels with no predicted samples. Use `zero_division` parameter to control this behavior.\n",
      "  _warn_prf(average, modifier, msg_start, len(result))\n",
      "C:\\Users\\kacpe\\AppData\\Local\\Packages\\PythonSoftwareFoundation.Python.3.10_qbz5n2kfra8p0\\LocalCache\\local-packages\\Python310\\site-packages\\sklearn\\metrics\\_classification.py:1344: UndefinedMetricWarning: Precision and F-score are ill-defined and being set to 0.0 in labels with no predicted samples. Use `zero_division` parameter to control this behavior.\n",
      "  _warn_prf(average, modifier, msg_start, len(result))\n"
     ]
    }
   ],
   "source": [
    "from sklearn.metrics import classification_report\n",
    "print(classification_report(y_test_class, y_pred_class))"
   ]
  },
  {
   "cell_type": "code",
   "execution_count": 61,
   "metadata": {},
   "outputs": [
    {
     "name": "stdout",
     "output_type": "stream",
     "text": [
      "[-2, 2, 2, 0, 0, 0, 2, 0, 0, 0, 1, 0, -1, 0, 0, 1, 1, 0, 1, 0, 1, 1, 1, 0]\n"
     ]
    },
    {
     "ename": "ValueError",
     "evalue": "in user code:\n\n    File \"C:\\Users\\kacpe\\AppData\\Local\\Packages\\PythonSoftwareFoundation.Python.3.10_qbz5n2kfra8p0\\LocalCache\\local-packages\\Python310\\site-packages\\keras\\engine\\training.py\", line 2137, in predict_function  *\n        return step_function(self, iterator)\n    File \"C:\\Users\\kacpe\\AppData\\Local\\Packages\\PythonSoftwareFoundation.Python.3.10_qbz5n2kfra8p0\\LocalCache\\local-packages\\Python310\\site-packages\\keras\\engine\\training.py\", line 2123, in step_function  **\n        outputs = model.distribute_strategy.run(run_step, args=(data,))\n    File \"C:\\Users\\kacpe\\AppData\\Local\\Packages\\PythonSoftwareFoundation.Python.3.10_qbz5n2kfra8p0\\LocalCache\\local-packages\\Python310\\site-packages\\keras\\engine\\training.py\", line 2111, in run_step  **\n        outputs = model.predict_step(data)\n    File \"C:\\Users\\kacpe\\AppData\\Local\\Packages\\PythonSoftwareFoundation.Python.3.10_qbz5n2kfra8p0\\LocalCache\\local-packages\\Python310\\site-packages\\keras\\engine\\training.py\", line 2079, in predict_step\n        return self(x, training=False)\n    File \"C:\\Users\\kacpe\\AppData\\Local\\Packages\\PythonSoftwareFoundation.Python.3.10_qbz5n2kfra8p0\\LocalCache\\local-packages\\Python310\\site-packages\\keras\\utils\\traceback_utils.py\", line 70, in error_handler\n        raise e.with_traceback(filtered_tb) from None\n    File \"C:\\Users\\kacpe\\AppData\\Local\\Packages\\PythonSoftwareFoundation.Python.3.10_qbz5n2kfra8p0\\LocalCache\\local-packages\\Python310\\site-packages\\keras\\engine\\input_spec.py\", line 295, in assert_input_compatibility\n        raise ValueError(\n\n    ValueError: Input 0 of layer \"sequential_7\" is incompatible with the layer: expected shape=(None, 26), found shape=(None, 24)\n",
     "output_type": "error",
     "traceback": [
      "\u001b[1;31m---------------------------------------------------------------------------\u001b[0m",
      "\u001b[1;31mValueError\u001b[0m                                Traceback (most recent call last)",
      "Cell \u001b[1;32mIn[61], line 34\u001b[0m\n\u001b[0;32m     31\u001b[0m world_state\u001b[38;5;241m.\u001b[39mextend(predicted_actions)\n\u001b[0;32m     32\u001b[0m \u001b[38;5;28mprint\u001b[39m(world_state)\n\u001b[1;32m---> 34\u001b[0m yhat \u001b[38;5;241m=\u001b[39m \u001b[43mmodel\u001b[49m\u001b[38;5;241;43m.\u001b[39;49m\u001b[43mpredict\u001b[49m\u001b[43m(\u001b[49m\u001b[43masarray\u001b[49m\u001b[43m(\u001b[49m\u001b[43m[\u001b[49m\u001b[43mworld_state\u001b[49m\u001b[43m]\u001b[49m\u001b[43m)\u001b[49m\u001b[43m)\u001b[49m\n\u001b[0;32m     35\u001b[0m \u001b[38;5;28mprint\u001b[39m(np\u001b[38;5;241m.\u001b[39margmax(yhat, axis\u001b[38;5;241m=\u001b[39m\u001b[38;5;241m-\u001b[39m\u001b[38;5;241m1\u001b[39m))\n\u001b[0;32m     36\u001b[0m \u001b[38;5;28mprint\u001b[39m(\u001b[38;5;124m'\u001b[39m\u001b[38;5;124mPredicted: \u001b[39m\u001b[38;5;132;01m%s\u001b[39;00m\u001b[38;5;124m'\u001b[39m \u001b[38;5;241m%\u001b[39m yhat[\u001b[38;5;241m0\u001b[39m])\n",
      "File \u001b[1;32m~\\AppData\\Local\\Packages\\PythonSoftwareFoundation.Python.3.10_qbz5n2kfra8p0\\LocalCache\\local-packages\\Python310\\site-packages\\keras\\utils\\traceback_utils.py:70\u001b[0m, in \u001b[0;36mfilter_traceback.<locals>.error_handler\u001b[1;34m(*args, **kwargs)\u001b[0m\n\u001b[0;32m     67\u001b[0m     filtered_tb \u001b[38;5;241m=\u001b[39m _process_traceback_frames(e\u001b[38;5;241m.\u001b[39m__traceback__)\n\u001b[0;32m     68\u001b[0m     \u001b[38;5;66;03m# To get the full stack trace, call:\u001b[39;00m\n\u001b[0;32m     69\u001b[0m     \u001b[38;5;66;03m# `tf.debugging.disable_traceback_filtering()`\u001b[39;00m\n\u001b[1;32m---> 70\u001b[0m     \u001b[38;5;28;01mraise\u001b[39;00m e\u001b[38;5;241m.\u001b[39mwith_traceback(filtered_tb) \u001b[38;5;28;01mfrom\u001b[39;00m \u001b[38;5;28mNone\u001b[39m\n\u001b[0;32m     71\u001b[0m \u001b[38;5;28;01mfinally\u001b[39;00m:\n\u001b[0;32m     72\u001b[0m     \u001b[38;5;28;01mdel\u001b[39;00m filtered_tb\n",
      "File \u001b[1;32m~\\AppData\\Local\\Temp\\__autograph_generated_fileilz4p14o.py:15\u001b[0m, in \u001b[0;36mouter_factory.<locals>.inner_factory.<locals>.tf__predict_function\u001b[1;34m(iterator)\u001b[0m\n\u001b[0;32m     13\u001b[0m \u001b[38;5;28;01mtry\u001b[39;00m:\n\u001b[0;32m     14\u001b[0m     do_return \u001b[38;5;241m=\u001b[39m \u001b[38;5;28;01mTrue\u001b[39;00m\n\u001b[1;32m---> 15\u001b[0m     retval_ \u001b[38;5;241m=\u001b[39m ag__\u001b[38;5;241m.\u001b[39mconverted_call(ag__\u001b[38;5;241m.\u001b[39mld(step_function), (ag__\u001b[38;5;241m.\u001b[39mld(\u001b[38;5;28mself\u001b[39m), ag__\u001b[38;5;241m.\u001b[39mld(iterator)), \u001b[38;5;28;01mNone\u001b[39;00m, fscope)\n\u001b[0;32m     16\u001b[0m \u001b[38;5;28;01mexcept\u001b[39;00m:\n\u001b[0;32m     17\u001b[0m     do_return \u001b[38;5;241m=\u001b[39m \u001b[38;5;28;01mFalse\u001b[39;00m\n",
      "\u001b[1;31mValueError\u001b[0m: in user code:\n\n    File \"C:\\Users\\kacpe\\AppData\\Local\\Packages\\PythonSoftwareFoundation.Python.3.10_qbz5n2kfra8p0\\LocalCache\\local-packages\\Python310\\site-packages\\keras\\engine\\training.py\", line 2137, in predict_function  *\n        return step_function(self, iterator)\n    File \"C:\\Users\\kacpe\\AppData\\Local\\Packages\\PythonSoftwareFoundation.Python.3.10_qbz5n2kfra8p0\\LocalCache\\local-packages\\Python310\\site-packages\\keras\\engine\\training.py\", line 2123, in step_function  **\n        outputs = model.distribute_strategy.run(run_step, args=(data,))\n    File \"C:\\Users\\kacpe\\AppData\\Local\\Packages\\PythonSoftwareFoundation.Python.3.10_qbz5n2kfra8p0\\LocalCache\\local-packages\\Python310\\site-packages\\keras\\engine\\training.py\", line 2111, in run_step  **\n        outputs = model.predict_step(data)\n    File \"C:\\Users\\kacpe\\AppData\\Local\\Packages\\PythonSoftwareFoundation.Python.3.10_qbz5n2kfra8p0\\LocalCache\\local-packages\\Python310\\site-packages\\keras\\engine\\training.py\", line 2079, in predict_step\n        return self(x, training=False)\n    File \"C:\\Users\\kacpe\\AppData\\Local\\Packages\\PythonSoftwareFoundation.Python.3.10_qbz5n2kfra8p0\\LocalCache\\local-packages\\Python310\\site-packages\\keras\\utils\\traceback_utils.py\", line 70, in error_handler\n        raise e.with_traceback(filtered_tb) from None\n    File \"C:\\Users\\kacpe\\AppData\\Local\\Packages\\PythonSoftwareFoundation.Python.3.10_qbz5n2kfra8p0\\LocalCache\\local-packages\\Python310\\site-packages\\keras\\engine\\input_spec.py\", line 295, in assert_input_compatibility\n        raise ValueError(\n\n    ValueError: Input 0 of layer \"sequential_7\" is incompatible with the layer: expected shape=(None, 26), found shape=(None, 24)\n"
     ]
    }
   ],
   "source": [
    "np.set_printoptions(suppress=True)\n",
    " \n",
    "world_state = [-2, #'doctor_altruism'\n",
    "        2, #'doctor_likes_soldier'\n",
    "        2, #'doctor_likes_actor'\n",
    "        0, #'doctor_has_food'\n",
    "        0, #'doctor_has_meds'\n",
    "        0, #soldier_altruism\n",
    "        2, #'soldier_likes_doctor'\n",
    "        0, #'soldier_likes_actor'\n",
    "        0, #'soldier_has_food'\n",
    "        0, # 'soldier_has_meds'\n",
    "        1, # 'actor_altruism'\n",
    "        0, #'actor_likes_doctor'\n",
    "        -1, # 'actor_likes_soldier'\n",
    "        0, #'actor_has_food'\n",
    "        0, #'actor_has_meds'\n",
    "        1, #'food_quantity'\n",
    "        1, #'meds_quantity'\n",
    "        0 #'active'\n",
    "        ]\n",
    "predicted_actions=[\n",
    "    \n",
    "1,#'attack(doctor, actor)'\n",
    "0,#'attack(doctor, soldier)'\n",
    "1,#'prepare_meeting(doctor, actor)'\n",
    "1,#'prepare_trap(doctor, soldier)'\n",
    "1,#'prepare_meeting(doctor, soldier)'\n",
    "0#'prepare_trap(doctor, actor)'\n",
    "\n",
    "]\n",
    "world_state.extend(predicted_actions)\n",
    "print(world_state)\n",
    "\n",
    "yhat = model.predict(asarray([world_state]))\n",
    "print(np.argmax(yhat, axis=-1))\n",
    "print('Predicted: %s' % yhat[0])"
   ]
  }
 ],
 "metadata": {
  "kernelspec": {
   "display_name": "Python 3",
   "language": "python",
   "name": "python3"
  },
  "language_info": {
   "codemirror_mode": {
    "name": "ipython",
    "version": 3
   },
   "file_extension": ".py",
   "mimetype": "text/x-python",
   "name": "python",
   "nbconvert_exporter": "python",
   "pygments_lexer": "ipython3",
   "version": "3.10.11"
  }
 },
 "nbformat": 4,
 "nbformat_minor": 2
}
